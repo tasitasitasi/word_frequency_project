{
 "cells": [
  {
   "cell_type": "markdown",
   "metadata": {},
   "source": [
    "# Homework 4 \n",
    "## Section 1: Word Frequencies"
   ]
  },
  {
   "cell_type": "code",
   "execution_count": 222,
   "metadata": {},
   "outputs": [],
   "source": [
    "import string\n",
    "\n",
    "def process_text(filename):\n",
    "    with open(filename, 'r') as file: \n",
    "        text = file.read()\n",
    "        text = text.lower()\n",
    "        text = text.translate(str.maketrans('', '', string.punctuation))\n",
    "        words = text.split()\n",
    "        return words\n",
    "\n",
    "\n"
   ]
  },
  {
   "cell_type": "code",
   "execution_count": 223,
   "metadata": {},
   "outputs": [],
   "source": [
    "def count_word_frequencies(words):\n",
    "    word_count = {}\n",
    "    for word in words:\n",
    "        if word in word_count:\n",
    "            word_count[word] += 1\n",
    "        else:\n",
    "            word_count[word] = 1\n",
    "    return word_count"
   ]
  },
  {
   "cell_type": "code",
   "execution_count": 224,
   "metadata": {},
   "outputs": [],
   "source": [
    "def get_top_words(word_count, n=10):\n",
    "    sorted_word_count = sorted(word_count.items(), key=lambda item: item[1], reverse=True)\n",
    "    return sorted_word_count[:n]"
   ]
  },
  {
   "cell_type": "code",
   "execution_count": 225,
   "metadata": {},
   "outputs": [
    {
     "name": "stdout",
     "output_type": "stream",
     "text": [
      "Sorted Top 10 Word Frequencies in Descending Order:\n",
      "the : 75\n",
      "a : 41\n",
      "in : 27\n",
      "of : 22\n",
      "i : 22\n",
      "and : 17\n",
      "to : 17\n",
      "is : 13\n",
      "not : 12\n",
      "we : 11\n"
     ]
    }
   ],
   "source": [
    "def main():\n",
    "    filename = \"handmaidstalepython.hwp.txt\"  \n",
    "    words = process_text(filename)\n",
    "    word_count = count_word_frequencies(words)\n",
    "    top_words = get_top_words(word_count)\n",
    "\n",
    "    print(\"Sorted Top 10 Word Frequencies in Descending Order:\")\n",
    "    for word, count in top_words:\n",
    "        print(f\"{word} : {count}\")\n",
    "\n",
    "if __name__ == \"__main__\":\n",
    "    main()"
   ]
  },
  {
   "cell_type": "markdown",
   "metadata": {},
   "source": [
    "### Original text provided in link below - Used Pages 2-4\n",
    "\n",
    "https://ieas-szeged.hu/downtherabbithole/wp-content/uploads/2020/02/Margaret-Atwood_-The-Handmaids-Tale-1.pdf"
   ]
  },
  {
   "cell_type": "markdown",
   "metadata": {},
   "source": [
    "## Section 2: Shopping List"
   ]
  },
  {
   "cell_type": "code",
   "execution_count": 226,
   "metadata": {},
   "outputs": [],
   "source": [
    "def create_shopping_list():\n",
    "    shopping_list = []\n",
    "    i = 1\n",
    "    while True:\n",
    "        item = input(f\"Enter item {i} for your shopping list (Type 'finish' to end): \").strip().upper()\n",
    "        if item == 'FINISH':\n",
    "            break\n",
    "        shopping_list.append(item)\n",
    "        i += 1\n",
    "    return shopping_list\n",
    "\n"
   ]
  },
  {
   "cell_type": "code",
   "execution_count": 227,
   "metadata": {},
   "outputs": [],
   "source": [
    "def check_item_in_list(shopping_list, item):\n",
    "    return item.upper() in shopping_list\n",
    "\n"
   ]
  },
  {
   "cell_type": "code",
   "execution_count": 228,
   "metadata": {},
   "outputs": [
    {
     "name": "stdout",
     "output_type": "stream",
     "text": [
      "Enter your items for the shopping list. Type 'FINISH' to end the list.\n",
      "Your shopping list: ['MILK', 'EGGS', 'BUTTER', 'BREAD', 'GARLIC']\n",
      "Cereal is not in your shopping list.\n"
     ]
    }
   ],
   "source": [
    "def main():\n",
    "    print(\"Enter your items for the shopping list. Type 'FINISH' to end the list.\")\n",
    "    shopping_list = create_shopping_list()\n",
    "    print(f\"Your shopping list: {shopping_list}\")\n",
    "    \n",
    "    item_to_check = input(\"Enter an item name to check its presence in the shopping list: \").strip().upper()\n",
    "    if check_item_in_list(shopping_list, item_to_check):\n",
    "        print(f\"{item_to_check.capitalize()} is in your shopping list!\")\n",
    "    else:\n",
    "        print(f\"{item_to_check.capitalize()} is not in your shopping list.\")\n",
    "\n",
    "if __name__ == \"__main__\":\n",
    "    main()"
   ]
  }
 ],
 "metadata": {
  "kernelspec": {
   "display_name": "base",
   "language": "python",
   "name": "python3"
  },
  "language_info": {
   "codemirror_mode": {
    "name": "ipython",
    "version": 3
   },
   "file_extension": ".py",
   "mimetype": "text/x-python",
   "name": "python",
   "nbconvert_exporter": "python",
   "pygments_lexer": "ipython3",
   "version": "3.11.5"
  }
 },
 "nbformat": 4,
 "nbformat_minor": 2
}
